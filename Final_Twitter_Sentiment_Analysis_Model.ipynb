{
  "nbformat": 4,
  "nbformat_minor": 0,
  "metadata": {
    "colab": {
      "name": "Final Twitter Sentiment Analysis Model.ipynb",
      "provenance": [],
      "collapsed_sections": [],
      "authorship_tag": "ABX9TyPjH8ytcAsYdf2M1WuDtjpq"
    },
    "kernelspec": {
      "name": "python3",
      "display_name": "Python 3"
    },
    "language_info": {
      "name": "python"
    },
    "accelerator": "GPU"
  },
  "cells": [
    {
      "cell_type": "code",
      "metadata": {
        "colab": {
          "base_uri": "https://localhost:8080/"
        },
        "id": "CYCu_Nu0mDXV",
        "outputId": "16360aa0-71bd-4f43-94f8-e278103853bd"
      },
      "source": [
        "from google.colab import drive\n",
        "drive.mount('/content/gdrive')"
      ],
      "execution_count": 1,
      "outputs": [
        {
          "output_type": "stream",
          "text": [
            "Mounted at /content/gdrive\n"
          ],
          "name": "stdout"
        }
      ]
    },
    {
      "cell_type": "code",
      "metadata": {
        "id": "Rew7c7M3mFz9"
      },
      "source": [
        "import os\n",
        "import pandas as pd\n",
        "import numpy as np\n",
        "from sklearn.model_selection import train_test_split\n",
        "import matplotlib.pyplot as plt\n",
        "plt.style.use('ggplot')\n",
        "\n",
        "def plot_history(history):\n",
        "    acc = history.history['accuracy']\n",
        "    val_acc = history.history['val_accuracy']\n",
        "    loss = history.history['loss']\n",
        "    val_loss = history.history['val_loss']\n",
        "    x = range(1, len(acc) + 1)\n",
        "\n",
        "    plt.figure(figsize=(12, 5))\n",
        "    plt.subplot(1, 2, 1)\n",
        "    plt.plot(x, acc, 'b', label='Training acc')\n",
        "    plt.plot(x, val_acc, 'r', label='Validation acc')\n",
        "    plt.title('Training and validation accuracy')\n",
        "    plt.legend()\n",
        "    plt.subplot(1, 2, 2)\n",
        "    plt.plot(x, loss, 'b', label='Training loss')\n",
        "    plt.plot(x, val_loss, 'r', label='Validation loss')\n",
        "    plt.title('Training and validation loss')\n",
        "    plt.legend()"
      ],
      "execution_count": 2,
      "outputs": []
    },
    {
      "cell_type": "code",
      "metadata": {
        "id": "Fg-wWx5gmTIU"
      },
      "source": [
        "glove_dir = os.path.join(os.getcwd(),'gdrive','My Drive','Colab Notebooks','models')\n",
        "\n",
        "glove_file = open(os.path.join(glove_dir,'glove.twitter.27B.100d.txt'))\n",
        "\n",
        "glove_index = {}\n",
        "\n",
        "for line in glove_file:\n",
        "  array = line.split()\n",
        "  word = array[0]\n",
        "  vector = np.asarray(array[1:], dtype='float32')\n",
        "  glove_index[word] = vector\n",
        "\n",
        "glove_file.close()"
      ],
      "execution_count": 3,
      "outputs": []
    },
    {
      "cell_type": "code",
      "metadata": {
        "colab": {
          "base_uri": "https://localhost:8080/",
          "height": 204
        },
        "id": "WdVdtjKZmZub",
        "outputId": "474ca211-9511-4b73-e19d-cece7b814efb"
      },
      "source": [
        "data_dir = os.path.join(os.getcwd(),'gdrive','My Drive','TwitterData')\n",
        "\n",
        "train_path = os.path.join(data_dir,'clean_twitter_sentiment_train.csv')\n",
        "\n",
        "test_path = os.path.join(data_dir,'clean_twitter_sentiment_test.csv')\n",
        "\n",
        "\n",
        "\n",
        "\n",
        "train = pd.read_csv(train_path)\n",
        "train = train.dropna()\n",
        "train.head()"
      ],
      "execution_count": 4,
      "outputs": [
        {
          "output_type": "execute_result",
          "data": {
            "text/html": [
              "<div>\n",
              "<style scoped>\n",
              "    .dataframe tbody tr th:only-of-type {\n",
              "        vertical-align: middle;\n",
              "    }\n",
              "\n",
              "    .dataframe tbody tr th {\n",
              "        vertical-align: top;\n",
              "    }\n",
              "\n",
              "    .dataframe thead th {\n",
              "        text-align: right;\n",
              "    }\n",
              "</style>\n",
              "<table border=\"1\" class=\"dataframe\">\n",
              "  <thead>\n",
              "    <tr style=\"text-align: right;\">\n",
              "      <th></th>\n",
              "      <th>label</th>\n",
              "      <th>tweet_id</th>\n",
              "      <th>text</th>\n",
              "      <th>clean_text</th>\n",
              "      <th>text2</th>\n",
              "    </tr>\n",
              "  </thead>\n",
              "  <tbody>\n",
              "    <tr>\n",
              "      <th>0</th>\n",
              "      <td>negative</td>\n",
              "      <td>1467810672</td>\n",
              "      <td>is upset that he can't update his Facebook by ...</td>\n",
              "      <td>is upset that he can't update his Facebook by ...</td>\n",
              "      <td>be upset that he can't update he Facebook by t...</td>\n",
              "    </tr>\n",
              "    <tr>\n",
              "      <th>1</th>\n",
              "      <td>negative</td>\n",
              "      <td>1467810917</td>\n",
              "      <td>@Kenichan I dived many times for the ball. Man...</td>\n",
              "      <td>I dived many times for the ball. Managed to s...</td>\n",
              "      <td>I dive many time for the ball. Managed to save...</td>\n",
              "    </tr>\n",
              "    <tr>\n",
              "      <th>2</th>\n",
              "      <td>negative</td>\n",
              "      <td>1467811184</td>\n",
              "      <td>my whole body feels itchy and like its on fire</td>\n",
              "      <td>my whole body feels itchy and like its on fire</td>\n",
              "      <td>i whole body feel itchy and like it on fire</td>\n",
              "    </tr>\n",
              "    <tr>\n",
              "      <th>3</th>\n",
              "      <td>negative</td>\n",
              "      <td>1467811193</td>\n",
              "      <td>@nationwideclass no, it's not behaving at all....</td>\n",
              "      <td>no, it's not behaving at all. i'm mad. why am...</td>\n",
              "      <td>no, it's not behave at all. i'm mad. why be i ...</td>\n",
              "    </tr>\n",
              "    <tr>\n",
              "      <th>4</th>\n",
              "      <td>negative</td>\n",
              "      <td>1467811372</td>\n",
              "      <td>@Kwesidei not the whole crew</td>\n",
              "      <td>not the whole crew</td>\n",
              "      <td>not the whole crew</td>\n",
              "    </tr>\n",
              "  </tbody>\n",
              "</table>\n",
              "</div>"
            ],
            "text/plain": [
              "      label  ...                                              text2\n",
              "0  negative  ...  be upset that he can't update he Facebook by t...\n",
              "1  negative  ...  I dive many time for the ball. Managed to save...\n",
              "2  negative  ...        i whole body feel itchy and like it on fire\n",
              "3  negative  ...  no, it's not behave at all. i'm mad. why be i ...\n",
              "4  negative  ...                                 not the whole crew\n",
              "\n",
              "[5 rows x 5 columns]"
            ]
          },
          "metadata": {
            "tags": []
          },
          "execution_count": 4
        }
      ]
    },
    {
      "cell_type": "code",
      "metadata": {
        "colab": {
          "base_uri": "https://localhost:8080/",
          "height": 204
        },
        "id": "bNup0VbhmpXA",
        "outputId": "c3838597-ff3f-409d-e115-3c61ad1a99d6"
      },
      "source": [
        "test = pd.read_csv(test_path)\n",
        "test = test.dropna()\n",
        "test.head()"
      ],
      "execution_count": 5,
      "outputs": [
        {
          "output_type": "execute_result",
          "data": {
            "text/html": [
              "<div>\n",
              "<style scoped>\n",
              "    .dataframe tbody tr th:only-of-type {\n",
              "        vertical-align: middle;\n",
              "    }\n",
              "\n",
              "    .dataframe tbody tr th {\n",
              "        vertical-align: top;\n",
              "    }\n",
              "\n",
              "    .dataframe thead th {\n",
              "        text-align: right;\n",
              "    }\n",
              "</style>\n",
              "<table border=\"1\" class=\"dataframe\">\n",
              "  <thead>\n",
              "    <tr style=\"text-align: right;\">\n",
              "      <th></th>\n",
              "      <th>label</th>\n",
              "      <th>tweet_id</th>\n",
              "      <th>text</th>\n",
              "      <th>clean_text</th>\n",
              "      <th>text2</th>\n",
              "    </tr>\n",
              "  </thead>\n",
              "  <tbody>\n",
              "    <tr>\n",
              "      <th>0</th>\n",
              "      <td>positive</td>\n",
              "      <td>1957713300</td>\n",
              "      <td>@IdeasCulture  Brochure looks great Yvonne.</td>\n",
              "      <td>Brochure looks great Yvonne.</td>\n",
              "      <td>Brochure look great Yvonne.</td>\n",
              "    </tr>\n",
              "    <tr>\n",
              "      <th>1</th>\n",
              "      <td>positive</td>\n",
              "      <td>1993603045</td>\n",
              "      <td>I THINK I NEED A BREAK...my butt is startin 2 ...</td>\n",
              "      <td>I THINK I NEED A BREAK...my butt is startin 2 ...</td>\n",
              "      <td>ITHINK I NEED A BREAK...my butt be startin 2 h...</td>\n",
              "    </tr>\n",
              "    <tr>\n",
              "      <th>2</th>\n",
              "      <td>negative</td>\n",
              "      <td>2257868396</td>\n",
              "      <td>I hate it when my days are turned upside down....</td>\n",
              "      <td>I hate it when my days are turned upside down....</td>\n",
              "      <td>Ihate it when i day be turn upside down.. It's...</td>\n",
              "    </tr>\n",
              "    <tr>\n",
              "      <th>3</th>\n",
              "      <td>negative</td>\n",
              "      <td>2195924253</td>\n",
              "      <td>i can't wait for the Beautiful video!!!!!!!! I...</td>\n",
              "      <td>i can't wait for the Beautiful video!!!!!!!! I...</td>\n",
              "      <td>ican't wait for the Beautiful video!!!!!!!! It...</td>\n",
              "    </tr>\n",
              "    <tr>\n",
              "      <th>4</th>\n",
              "      <td>positive</td>\n",
              "      <td>1972935776</td>\n",
              "      <td>pool again...with sushi this time</td>\n",
              "      <td>pool again...with sushi this time</td>\n",
              "      <td>pool again...with sushi this time</td>\n",
              "    </tr>\n",
              "  </tbody>\n",
              "</table>\n",
              "</div>"
            ],
            "text/plain": [
              "      label  ...                                              text2\n",
              "0  positive  ...                        Brochure look great Yvonne.\n",
              "1  positive  ...  ITHINK I NEED A BREAK...my butt be startin 2 h...\n",
              "2  negative  ...  Ihate it when i day be turn upside down.. It's...\n",
              "3  negative  ...  ican't wait for the Beautiful video!!!!!!!! It...\n",
              "4  positive  ...                  pool again...with sushi this time\n",
              "\n",
              "[5 rows x 5 columns]"
            ]
          },
          "metadata": {
            "tags": []
          },
          "execution_count": 5
        }
      ]
    },
    {
      "cell_type": "code",
      "metadata": {
        "id": "bfjdTGoYm37j"
      },
      "source": [
        "X_train = train['text2']\n",
        "y_train = []\n",
        "\n",
        "for i in train['label'].tolist():\n",
        "  if i == 'negative':\n",
        "    y_train.append(0)\n",
        "  else:\n",
        "    y_train.append(1)\n",
        "\n",
        "y_train = np.array(y_train)"
      ],
      "execution_count": 6,
      "outputs": []
    },
    {
      "cell_type": "code",
      "metadata": {
        "id": "DZe3OIL4n41Q"
      },
      "source": [
        "X_test = test['text2']\n",
        "y_test = []\n",
        "\n",
        "for i in test['label'].tolist():\n",
        "  if i == 'negative':\n",
        "    y_test.append(0)\n",
        "  else:\n",
        "    y_test.append(1)\n",
        "\n",
        "y_test = np.array(y_test)"
      ],
      "execution_count": 7,
      "outputs": []
    },
    {
      "cell_type": "code",
      "metadata": {
        "id": "fNt4jSG6ou3X"
      },
      "source": [
        "from keras.backend import clear_session \n",
        "#clear_session()"
      ],
      "execution_count": 8,
      "outputs": []
    },
    {
      "cell_type": "code",
      "metadata": {
        "colab": {
          "base_uri": "https://localhost:8080/"
        },
        "id": "mceIxrPynI6T",
        "outputId": "eefc4649-a196-49f5-c566-cd06cd4ab718"
      },
      "source": [
        "from tensorflow.keras.preprocessing.text import Tokenizer\n",
        "from tensorflow.keras.preprocessing.sequence import pad_sequences\n",
        "from tensorflow.keras.backend import clear_session\n",
        "\n",
        "tokenizer = Tokenizer(num_words=10000)\n",
        "tokenizer.fit_on_texts(X_train)\n",
        "word_index = tokenizer.word_index\n",
        "\n",
        "print(type(word_index))\n",
        "\n",
        "X_train = tokenizer.texts_to_sequences(X_train)\n",
        "X_test = tokenizer.texts_to_sequences(X_test)\n",
        "\n",
        "maxlen = 280\n",
        "\n",
        "X_train = pad_sequences(X_train, padding='post', maxlen=maxlen)\n",
        "X_test = pad_sequences(X_test, padding='post', maxlen=maxlen)"
      ],
      "execution_count": 9,
      "outputs": [
        {
          "output_type": "stream",
          "text": [
            "<class 'dict'>\n"
          ],
          "name": "stdout"
        }
      ]
    },
    {
      "cell_type": "code",
      "metadata": {
        "id": "vdU3YoVvoL6v"
      },
      "source": [
        "word_embedding_matrix = np.random.random((len(word_index) + 1, 100))\n",
        "\n",
        "for word, index in word_index.items():\n",
        "  #word_embedding_vector = glove_index[word]\n",
        "  #if word_embedding_vector is not None:\n",
        "  if word in glove_index.keys():\n",
        "    word_embedding_matrix[index] = glove_index[word]"
      ],
      "execution_count": 10,
      "outputs": []
    },
    {
      "cell_type": "code",
      "metadata": {
        "colab": {
          "base_uri": "https://localhost:8080/"
        },
        "id": "PGmG9OyDodO8",
        "outputId": "8f86b8d5-4fb3-4020-fd00-4f6f9e0c2d76"
      },
      "source": [
        "from tensorflow.keras.models import Sequential\n",
        "from tensorflow.keras import layers\n",
        "from tensorflow.keras.metrics import AUC\n",
        "from tensorflow.keras.backend import clear_session\n",
        "\n",
        "vocab_size = len(tokenizer.word_index) + 1\n",
        "embedding_dim = 100\n",
        "\n",
        "model = Sequential()\n",
        "\n",
        "model.add(layers.Embedding(input_dim=vocab_size, output_dim=embedding_dim, weights = [word_embedding_matrix], input_length=maxlen, trainable=True))\n",
        "model.add(layers.Conv1D(128, 5, activation='relu',kernel_initializer=\"he_normal\"))\n",
        "model.add(layers.MaxPooling1D(5))\n",
        "model.add(layers.Conv1D(128, 5, activation='relu',kernel_initializer=\"he_normal\"))\n",
        "model.add(layers.MaxPooling1D(35))\n",
        "model.add(layers.Flatten())\n",
        "model.add(layers.Dense(128, activation='relu',kernel_initializer=\"he_normal\"))\n",
        "model.add(layers.Dense(1, activation='sigmoid'))\n",
        "model.summary()"
      ],
      "execution_count": 11,
      "outputs": [
        {
          "output_type": "stream",
          "text": [
            "Model: \"sequential\"\n",
            "_________________________________________________________________\n",
            "Layer (type)                 Output Shape              Param #   \n",
            "=================================================================\n",
            "embedding (Embedding)        (None, 280, 100)          24798300  \n",
            "_________________________________________________________________\n",
            "conv1d (Conv1D)              (None, 276, 128)          64128     \n",
            "_________________________________________________________________\n",
            "max_pooling1d (MaxPooling1D) (None, 55, 128)           0         \n",
            "_________________________________________________________________\n",
            "conv1d_1 (Conv1D)            (None, 51, 128)           82048     \n",
            "_________________________________________________________________\n",
            "max_pooling1d_1 (MaxPooling1 (None, 1, 128)            0         \n",
            "_________________________________________________________________\n",
            "flatten (Flatten)            (None, 128)               0         \n",
            "_________________________________________________________________\n",
            "dense (Dense)                (None, 128)               16512     \n",
            "_________________________________________________________________\n",
            "dense_1 (Dense)              (None, 1)                 129       \n",
            "=================================================================\n",
            "Total params: 24,961,117\n",
            "Trainable params: 24,961,117\n",
            "Non-trainable params: 0\n",
            "_________________________________________________________________\n"
          ],
          "name": "stdout"
        }
      ]
    },
    {
      "cell_type": "code",
      "metadata": {
        "colab": {
          "base_uri": "https://localhost:8080/"
        },
        "id": "FMwS69ebokS6",
        "outputId": "d439e234-b9f6-45cd-f691-ee2558702c97"
      },
      "source": [
        "model.compile(optimizer='rmsprop',loss='binary_crossentropy', metrics=[AUC(from_logits=True)])\n",
        "\n",
        "history = model.fit(X_train, y_train, epochs=9, verbose=1, batch_size=32)"
      ],
      "execution_count": 12,
      "outputs": [
        {
          "output_type": "stream",
          "text": [
            "Epoch 1/9\n",
            "34940/34940 [==============================] - 3176s 90ms/step - loss: 0.4504 - auc: 0.8744\n",
            "Epoch 2/9\n",
            "34940/34940 [==============================] - 2805s 80ms/step - loss: 0.4312 - auc: 0.8873\n",
            "Epoch 3/9\n",
            "34940/34940 [==============================] - 2762s 79ms/step - loss: 0.4304 - auc: 0.8895\n",
            "Epoch 4/9\n",
            "34940/34940 [==============================] - 2789s 80ms/step - loss: 0.4285 - auc: 0.8911\n",
            "Epoch 5/9\n",
            "34940/34940 [==============================] - 2809s 80ms/step - loss: 0.4263 - auc: 0.8925\n",
            "Epoch 6/9\n",
            "34940/34940 [==============================] - 2772s 79ms/step - loss: 0.4266 - auc: 0.8929\n",
            "Epoch 7/9\n",
            "34940/34940 [==============================] - 2756s 79ms/step - loss: 0.4280 - auc: 0.8933\n",
            "Epoch 8/9\n",
            "34940/34940 [==============================] - 2755s 79ms/step - loss: 0.4290 - auc: 0.8929\n",
            "Epoch 9/9\n",
            "34940/34940 [==============================] - 2758s 79ms/step - loss: 0.4301 - auc: 0.8933\n"
          ],
          "name": "stdout"
        }
      ]
    },
    {
      "cell_type": "code",
      "metadata": {
        "colab": {
          "base_uri": "https://localhost:8080/"
        },
        "id": "FUcpTJnWyzvc",
        "outputId": "826a798e-8dab-4458-e4bc-1fc38fa0d869"
      },
      "source": [
        "model.evaluate(X_test,y_test)"
      ],
      "execution_count": 13,
      "outputs": [
        {
          "output_type": "stream",
          "text": [
            "14973/14973 [==============================] - 72s 5ms/step - loss: 0.4246 - auc: 0.8928\n"
          ],
          "name": "stdout"
        },
        {
          "output_type": "execute_result",
          "data": {
            "text/plain": [
              "[0.42463377118110657, 0.8928125500679016]"
            ]
          },
          "metadata": {
            "tags": []
          },
          "execution_count": 13
        }
      ]
    },
    {
      "cell_type": "code",
      "metadata": {
        "colab": {
          "base_uri": "https://localhost:8080/"
        },
        "id": "tQQQ7wnf211_",
        "outputId": "22c03825-09a0-485e-88a9-1a7b61d37d91"
      },
      "source": [
        "model_file = os.path.join(glove_dir,\"final-twitter-covnet.hd5\")\n",
        "model.save(model_file)"
      ],
      "execution_count": 14,
      "outputs": [
        {
          "output_type": "stream",
          "text": [
            "INFO:tensorflow:Assets written to: /content/gdrive/My Drive/Colab Notebooks/models/final-twitter-covnet.hd5/assets\n"
          ],
          "name": "stdout"
        }
      ]
    },
    {
      "cell_type": "code",
      "metadata": {
        "id": "U5WrViX13uX8"
      },
      "source": [
        "from tensorflow import keras\n",
        "\n",
        "loaded_model = keras.models.load_model(model_file)"
      ],
      "execution_count": 15,
      "outputs": []
    },
    {
      "cell_type": "code",
      "metadata": {
        "colab": {
          "base_uri": "https://localhost:8080/"
        },
        "id": "_KR6NXWC4GGO",
        "outputId": "9ae562b8-3a60-47df-a160-b18e5c6a2535"
      },
      "source": [
        "X_test[0].shape"
      ],
      "execution_count": 18,
      "outputs": [
        {
          "output_type": "execute_result",
          "data": {
            "text/plain": [
              "(280,)"
            ]
          },
          "metadata": {
            "tags": []
          },
          "execution_count": 18
        }
      ]
    },
    {
      "cell_type": "code",
      "metadata": {
        "id": "GitbdlIq4MGX"
      },
      "source": [
        "temp = X_test[0]"
      ],
      "execution_count": 19,
      "outputs": []
    },
    {
      "cell_type": "code",
      "metadata": {
        "id": "5P486Q2U4c7s"
      },
      "source": [
        "temp = temp.reshape(1,280)"
      ],
      "execution_count": 21,
      "outputs": []
    },
    {
      "cell_type": "code",
      "metadata": {
        "colab": {
          "base_uri": "https://localhost:8080/"
        },
        "id": "haQ5So2_4g9M",
        "outputId": "f046be09-23cb-45a2-d3ed-8dd1a52ff2f4"
      },
      "source": [
        "temp.shape"
      ],
      "execution_count": 22,
      "outputs": [
        {
          "output_type": "execute_result",
          "data": {
            "text/plain": [
              "(1, 280)"
            ]
          },
          "metadata": {
            "tags": []
          },
          "execution_count": 22
        }
      ]
    },
    {
      "cell_type": "code",
      "metadata": {
        "colab": {
          "base_uri": "https://localhost:8080/"
        },
        "id": "DtYrntfb4kuz",
        "outputId": "bcb68606-d761-4af0-cb04-ba298b6bec1a"
      },
      "source": [
        "loaded_model.predict(temp)"
      ],
      "execution_count": 23,
      "outputs": [
        {
          "output_type": "execute_result",
          "data": {
            "text/plain": [
              "array([[0.9038533]], dtype=float32)"
            ]
          },
          "metadata": {
            "tags": []
          },
          "execution_count": 23
        }
      ]
    },
    {
      "cell_type": "code",
      "metadata": {
        "colab": {
          "base_uri": "https://localhost:8080/"
        },
        "id": "-gZSmcIl4nNa",
        "outputId": "494da17b-8585-4803-fe1a-10ab769939cc"
      },
      "source": [
        "y_test[0]"
      ],
      "execution_count": 24,
      "outputs": [
        {
          "output_type": "execute_result",
          "data": {
            "text/plain": [
              "1"
            ]
          },
          "metadata": {
            "tags": []
          },
          "execution_count": 24
        }
      ]
    },
    {
      "cell_type": "code",
      "metadata": {
        "id": "9RALX-K74rOA"
      },
      "source": [
        ""
      ],
      "execution_count": null,
      "outputs": []
    }
  ]
}