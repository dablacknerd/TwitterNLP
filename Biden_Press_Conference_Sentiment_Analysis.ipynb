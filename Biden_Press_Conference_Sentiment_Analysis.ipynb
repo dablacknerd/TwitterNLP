{
  "nbformat": 4,
  "nbformat_minor": 0,
  "metadata": {
    "colab": {
      "name": "Biden Press Conference Sentiment Analysis.ipynb",
      "provenance": [],
      "collapsed_sections": []
    },
    "kernelspec": {
      "name": "python3",
      "display_name": "Python 3"
    },
    "language_info": {
      "name": "python"
    }
  },
  "cells": [
    {
      "cell_type": "code",
      "metadata": {
        "colab": {
          "base_uri": "https://localhost:8080/"
        },
        "id": "UT8PkKPfSHPC",
        "outputId": "8a89bfb4-9d5e-491b-d0bf-055662794d07"
      },
      "source": [
        "from google.colab import drive\n",
        "drive.mount('/content/gdrive')"
      ],
      "execution_count": 1,
      "outputs": [
        {
          "output_type": "stream",
          "text": [
            "Mounted at /content/gdrive\n"
          ],
          "name": "stdout"
        }
      ]
    },
    {
      "cell_type": "code",
      "metadata": {
        "colab": {
          "base_uri": "https://localhost:8080/"
        },
        "id": "WgPaRgf5SJja",
        "outputId": "69fc3516-68f7-4125-de88-a38bf2598923"
      },
      "source": [
        "import os\n",
        "\n",
        "# Install java\n",
        "! apt-get update -qq\n",
        "! apt-get install -y openjdk-8-jdk-headless -qq > /dev/null\n",
        "\n",
        "os.environ[\"JAVA_HOME\"] = \"/usr/lib/jvm/java-8-openjdk-amd64\"\n",
        "os.environ[\"PATH\"] = os.environ[\"JAVA_HOME\"] + \"/bin:\" + os.environ[\"PATH\"]\n",
        "! java -version\n",
        "\n",
        "# Install pyspark\n",
        "! pip install --ignore-installed -q pyspark==2.4.4\n",
        "! pip install --ignore-installed -q spark-nlp==2.7.1\n",
        "\n",
        "# Install demoji for emoji removal\n",
        "! pip install demoji\n",
        "\n",
        "import demoji\n",
        "demoji.download_codes()"
      ],
      "execution_count": 2,
      "outputs": [
        {
          "output_type": "stream",
          "text": [
            "openjdk version \"1.8.0_282\"\n",
            "OpenJDK Runtime Environment (build 1.8.0_282-8u282-b08-0ubuntu1~18.04-b08)\n",
            "OpenJDK 64-Bit Server VM (build 25.282-b08, mixed mode)\n",
            "\u001b[K     |████████████████████████████████| 215.7MB 71kB/s \n",
            "\u001b[K     |████████████████████████████████| 204kB 47.8MB/s \n",
            "\u001b[?25h  Building wheel for pyspark (setup.py) ... \u001b[?25l\u001b[?25hdone\n",
            "\u001b[K     |████████████████████████████████| 143kB 12.7MB/s \n",
            "\u001b[?25hCollecting demoji\n",
            "  Downloading https://files.pythonhosted.org/packages/88/6a/34379abe01c9c36fe9fddc4181dd935332e7d0159ec3fae76f712e49bcea/demoji-0.4.0-py2.py3-none-any.whl\n",
            "Requirement already satisfied: requests<3.0.0 in /usr/local/lib/python3.7/dist-packages (from demoji) (2.23.0)\n",
            "Collecting colorama\n",
            "  Downloading https://files.pythonhosted.org/packages/44/98/5b86278fbbf250d239ae0ecb724f8572af1c91f4a11edf4d36a206189440/colorama-0.4.4-py2.py3-none-any.whl\n",
            "Requirement already satisfied: urllib3!=1.25.0,!=1.25.1,<1.26,>=1.21.1 in /usr/local/lib/python3.7/dist-packages (from requests<3.0.0->demoji) (1.24.3)\n",
            "Requirement already satisfied: chardet<4,>=3.0.2 in /usr/local/lib/python3.7/dist-packages (from requests<3.0.0->demoji) (3.0.4)\n",
            "Requirement already satisfied: idna<3,>=2.5 in /usr/local/lib/python3.7/dist-packages (from requests<3.0.0->demoji) (2.10)\n",
            "Requirement already satisfied: certifi>=2017.4.17 in /usr/local/lib/python3.7/dist-packages (from requests<3.0.0->demoji) (2020.12.5)\n",
            "Installing collected packages: colorama, demoji\n",
            "Successfully installed colorama-0.4.4 demoji-0.4.0\n",
            "Downloading emoji data ...\n",
            "... OK (Got response in 0.43 seconds)\n",
            "Writing emoji data to /root/.demoji/codes.json ...\n",
            "... OK\n"
          ],
          "name": "stdout"
        }
      ]
    },
    {
      "cell_type": "code",
      "metadata": {
        "id": "k4KvOaqRSRNA"
      },
      "source": [
        "import sparknlp\n",
        "import re\n",
        "\n",
        "data_dir = os.path.join(os.getcwd(),'gdrive','My Drive','TwitterData')\n",
        "\n",
        "file_path = os.path.join(data_dir,'Biden-Pressconference.csv')\n",
        "\n",
        "spark = sparknlp.start() \n",
        "\n",
        "df = spark.read.csv(file_path,inferSchema=True,header=True,multiLine=True,escape='\"')"
      ],
      "execution_count": 3,
      "outputs": []
    },
    {
      "cell_type": "code",
      "metadata": {
        "colab": {
          "base_uri": "https://localhost:8080/"
        },
        "id": "SPO9Y0voy9I1",
        "outputId": "c4a2f25e-37ce-43d3-a3e4-f38c4ae7a510"
      },
      "source": [
        "df.printSchema()"
      ],
      "execution_count": 6,
      "outputs": [
        {
          "output_type": "stream",
          "text": [
            "root\n",
            " |-- tweet_id: long (nullable = true)\n",
            " |-- full_text: string (nullable = true)\n",
            "\n"
          ],
          "name": "stdout"
        }
      ]
    },
    {
      "cell_type": "code",
      "metadata": {
        "id": "1YAOb3MtvGOF"
      },
      "source": [
        "from sparknlp.base import DocumentAssembler,Finisher, TokenAssembler\n",
        "from sparknlp.pretrained import PretrainedPipeline\n",
        "from sparknlp.annotator import *\n",
        "\n",
        "from pyspark.ml import Pipeline\n",
        "from pyspark.sql.functions import col, concat_ws\n",
        "from pyspark.sql.functions import udf\n",
        "from pyspark.sql.types import StringType"
      ],
      "execution_count": 4,
      "outputs": []
    },
    {
      "cell_type": "code",
      "metadata": {
        "id": "oKoSJFdpvHtK"
      },
      "source": [
        "@udf(returnType=StringType()) \n",
        "def remove_url_emojis(text):\n",
        "  text1 = re.sub(r\"http\\S+\", \"\", text)\n",
        "  return demoji.replace(text1, \"\")"
      ],
      "execution_count": 5,
      "outputs": []
    },
    {
      "cell_type": "code",
      "metadata": {
        "colab": {
          "base_uri": "https://localhost:8080/"
        },
        "id": "wvYlRZTOvOr6",
        "outputId": "ea9a3c52-c6c1-48ca-ff08-db10f47866bf"
      },
      "source": [
        "df = df.withColumn(\"text\",remove_url_emojis(col(\"full_text\")))\n",
        "df.select(\"text\").show(5, truncate=False)"
      ],
      "execution_count": 7,
      "outputs": [
        {
          "output_type": "stream",
          "text": [
            "+----------------------------------------------------------------------------------------------------------------------------------------------------------------------------------------------------------------------------------------------------------------------+\n",
            "|text                                                                                                                                                                                                                                                                  |\n",
            "+----------------------------------------------------------------------------------------------------------------------------------------------------------------------------------------------------------------------------------------------------------------------+\n",
            "|We obtained EXCLUSIVE FOOTAGE of Biden preparing for his press conference. #CrowderBidenStream #bidenpressconference                                                                                                                                                  |\n",
            "|#bidenpressconference \n",
            "\n",
            "Waiting for #Ageism to start trending to silence criticism                                                                                                                                                                                    |\n",
            "|Is no one going to talk about how @potus biden just randomly walked away from the podium? No?\n",
            " #bidenpressconference                                                                                                                                                  |\n",
            "|Celebrating the fact that during his first press conference, our current President did not recommend people inject themselves with bleach, did not label a virus with a racist name &amp; did not issue a call for action to white supremacists. #bidenpressconference|\n",
            "|A President with cognitive decline is a national security risk.\n",
            "\n",
            "It’s time to stop dancing around that.\n",
            "\n",
            "#BidenPressConference                                                                                                                                        |\n",
            "+----------------------------------------------------------------------------------------------------------------------------------------------------------------------------------------------------------------------------------------------------------------------+\n",
            "only showing top 5 rows\n",
            "\n"
          ],
          "name": "stdout"
        }
      ]
    },
    {
      "cell_type": "code",
      "metadata": {
        "colab": {
          "base_uri": "https://localhost:8080/"
        },
        "id": "1k_baK2vSnSJ",
        "outputId": "44cf85a6-f1c2-4d7a-c7e8-3ad26fe04da7"
      },
      "source": [
        "pipeline = PretrainedPipeline(\"analyze_sentimentdl_use_twitter\", lang=\"en\")"
      ],
      "execution_count": 8,
      "outputs": [
        {
          "output_type": "stream",
          "text": [
            "analyze_sentimentdl_use_twitter download started this may take some time.\n",
            "Approx size to download 935.1 MB\n",
            "[OK!]\n"
          ],
          "name": "stdout"
        }
      ]
    },
    {
      "cell_type": "code",
      "metadata": {
        "id": "m0X6QqntSvbo"
      },
      "source": [
        "df_result = pipeline.transform(df)"
      ],
      "execution_count": 9,
      "outputs": []
    },
    {
      "cell_type": "code",
      "metadata": {
        "colab": {
          "base_uri": "https://localhost:8080/"
        },
        "id": "a4d31MCnTMeX",
        "outputId": "ee71ad8e-a7c8-41ea-df61-fcd2d29bc6c6"
      },
      "source": [
        "df_result.printSchema()"
      ],
      "execution_count": 10,
      "outputs": [
        {
          "output_type": "stream",
          "text": [
            "root\n",
            " |-- tweet_id: long (nullable = true)\n",
            " |-- full_text: string (nullable = true)\n",
            " |-- text: string (nullable = true)\n",
            " |-- document: array (nullable = true)\n",
            " |    |-- element: struct (containsNull = true)\n",
            " |    |    |-- annotatorType: string (nullable = true)\n",
            " |    |    |-- begin: integer (nullable = false)\n",
            " |    |    |-- end: integer (nullable = false)\n",
            " |    |    |-- result: string (nullable = true)\n",
            " |    |    |-- metadata: map (nullable = true)\n",
            " |    |    |    |-- key: string\n",
            " |    |    |    |-- value: string (valueContainsNull = true)\n",
            " |    |    |-- embeddings: array (nullable = true)\n",
            " |    |    |    |-- element: float (containsNull = false)\n",
            " |-- sentence_embeddings: array (nullable = true)\n",
            " |    |-- element: struct (containsNull = true)\n",
            " |    |    |-- annotatorType: string (nullable = true)\n",
            " |    |    |-- begin: integer (nullable = false)\n",
            " |    |    |-- end: integer (nullable = false)\n",
            " |    |    |-- result: string (nullable = true)\n",
            " |    |    |-- metadata: map (nullable = true)\n",
            " |    |    |    |-- key: string\n",
            " |    |    |    |-- value: string (valueContainsNull = true)\n",
            " |    |    |-- embeddings: array (nullable = true)\n",
            " |    |    |    |-- element: float (containsNull = false)\n",
            " |-- sentiment: array (nullable = true)\n",
            " |    |-- element: struct (containsNull = true)\n",
            " |    |    |-- annotatorType: string (nullable = true)\n",
            " |    |    |-- begin: integer (nullable = false)\n",
            " |    |    |-- end: integer (nullable = false)\n",
            " |    |    |-- result: string (nullable = true)\n",
            " |    |    |-- metadata: map (nullable = true)\n",
            " |    |    |    |-- key: string\n",
            " |    |    |    |-- value: string (valueContainsNull = true)\n",
            " |    |    |-- embeddings: array (nullable = true)\n",
            " |    |    |    |-- element: float (containsNull = false)\n",
            "\n"
          ],
          "name": "stdout"
        }
      ]
    },
    {
      "cell_type": "code",
      "metadata": {
        "colab": {
          "base_uri": "https://localhost:8080/"
        },
        "id": "ObbflSe7ztYe",
        "outputId": "9419528a-1949-4962-9a4d-ef512e308976"
      },
      "source": [
        "df_result.selectExpr(\"explode(sentiment) sentiments\").show(5,truncate=False)"
      ],
      "execution_count": 11,
      "outputs": [
        {
          "output_type": "stream",
          "text": [
            "+-------------------------------------------------------------------------------------------------+\n",
            "|sentiments                                                                                       |\n",
            "+-------------------------------------------------------------------------------------------------+\n",
            "|[category, 0, 116, positive, [sentence -> 0, positive -> 1.0, negative -> 0.0], []]              |\n",
            "|[category, 0, 83, negative, [sentence -> 0, positive -> 2.598832E-4, negative -> 0.99974006], []]|\n",
            "|[category, 0, 115, negative, [sentence -> 0, positive -> 4.6696863E-15, negative -> 1.0], []]    |\n",
            "|[category, 0, 261, negative, [sentence -> 0, positive -> 0.0867686, negative -> 0.91323143], []] |\n",
            "|[category, 0, 125, negative, [sentence -> 0, positive -> 0.040200155, negative -> 0.9597998], []]|\n",
            "+-------------------------------------------------------------------------------------------------+\n",
            "only showing top 5 rows\n",
            "\n"
          ],
          "name": "stdout"
        }
      ]
    },
    {
      "cell_type": "code",
      "metadata": {
        "colab": {
          "base_uri": "https://localhost:8080/"
        },
        "id": "qZFZ_vF10COs",
        "outputId": "314545f6-e43b-4785-e62d-d365a56f3f4b"
      },
      "source": [
        "df_result.selectExpr(\"explode(sentiment) sentiments\").selectExpr(\"sentiments.result result\").show(5,truncate=False)"
      ],
      "execution_count": 12,
      "outputs": [
        {
          "output_type": "stream",
          "text": [
            "+--------+\n",
            "|result  |\n",
            "+--------+\n",
            "|positive|\n",
            "|negative|\n",
            "|negative|\n",
            "|negative|\n",
            "|negative|\n",
            "+--------+\n",
            "only showing top 5 rows\n",
            "\n"
          ],
          "name": "stdout"
        }
      ]
    },
    {
      "cell_type": "code",
      "metadata": {
        "colab": {
          "base_uri": "https://localhost:8080/",
          "height": 204
        },
        "id": "MmSkMFae0Xr7",
        "outputId": "acaa4872-4794-4aa2-bb1b-103a73e7fa82"
      },
      "source": [
        "df_final_result = df_result.selectExpr(\"tweet_id\",\"explode(sentiment) sentiments\").selectExpr(\"sentiments.result\",\"sentiments.metadata['positive'] positive_confidence\",\"sentiments.metadata['negative'] negative_confidence\").toPandas()\n",
        "df_final_result.head()"
      ],
      "execution_count": 35,
      "outputs": [
        {
          "output_type": "execute_result",
          "data": {
            "text/html": [
              "<div>\n",
              "<style scoped>\n",
              "    .dataframe tbody tr th:only-of-type {\n",
              "        vertical-align: middle;\n",
              "    }\n",
              "\n",
              "    .dataframe tbody tr th {\n",
              "        vertical-align: top;\n",
              "    }\n",
              "\n",
              "    .dataframe thead th {\n",
              "        text-align: right;\n",
              "    }\n",
              "</style>\n",
              "<table border=\"1\" class=\"dataframe\">\n",
              "  <thead>\n",
              "    <tr style=\"text-align: right;\">\n",
              "      <th></th>\n",
              "      <th>result</th>\n",
              "      <th>positive_confidence</th>\n",
              "      <th>negative_confidence</th>\n",
              "    </tr>\n",
              "  </thead>\n",
              "  <tbody>\n",
              "    <tr>\n",
              "      <th>0</th>\n",
              "      <td>positive</td>\n",
              "      <td>1.0</td>\n",
              "      <td>0.0</td>\n",
              "    </tr>\n",
              "    <tr>\n",
              "      <th>1</th>\n",
              "      <td>negative</td>\n",
              "      <td>2.598832E-4</td>\n",
              "      <td>0.99974006</td>\n",
              "    </tr>\n",
              "    <tr>\n",
              "      <th>2</th>\n",
              "      <td>negative</td>\n",
              "      <td>4.6696863E-15</td>\n",
              "      <td>1.0</td>\n",
              "    </tr>\n",
              "    <tr>\n",
              "      <th>3</th>\n",
              "      <td>negative</td>\n",
              "      <td>0.0867686</td>\n",
              "      <td>0.91323143</td>\n",
              "    </tr>\n",
              "    <tr>\n",
              "      <th>4</th>\n",
              "      <td>negative</td>\n",
              "      <td>0.040200155</td>\n",
              "      <td>0.9597998</td>\n",
              "    </tr>\n",
              "  </tbody>\n",
              "</table>\n",
              "</div>"
            ],
            "text/plain": [
              "     result positive_confidence negative_confidence\n",
              "0  positive                 1.0                 0.0\n",
              "1  negative         2.598832E-4          0.99974006\n",
              "2  negative       4.6696863E-15                 1.0\n",
              "3  negative           0.0867686          0.91323143\n",
              "4  negative         0.040200155           0.9597998"
            ]
          },
          "metadata": {
            "tags": []
          },
          "execution_count": 35
        }
      ]
    },
    {
      "cell_type": "code",
      "metadata": {
        "id": "4e8xX9kr0i06"
      },
      "source": [
        "result_path = os.path.join(data_dir,'Biden-Pressconference-Sentiment-Results.csv')"
      ],
      "execution_count": 36,
      "outputs": []
    },
    {
      "cell_type": "code",
      "metadata": {
        "colab": {
          "base_uri": "https://localhost:8080/"
        },
        "id": "OQkIX9Pf2kJP",
        "outputId": "495ef9cc-4317-449c-e3e2-845ac94a8320"
      },
      "source": [
        "df_final_result.shape"
      ],
      "execution_count": 38,
      "outputs": [
        {
          "output_type": "execute_result",
          "data": {
            "text/plain": [
              "(35574, 3)"
            ]
          },
          "metadata": {
            "tags": []
          },
          "execution_count": 38
        }
      ]
    },
    {
      "cell_type": "code",
      "metadata": {
        "colab": {
          "base_uri": "https://localhost:8080/"
        },
        "id": "Aio7KT_a3-8n",
        "outputId": "a1d271eb-ad80-49fb-b168-468dc2616684"
      },
      "source": [
        "df.printSchema()"
      ],
      "execution_count": 40,
      "outputs": [
        {
          "output_type": "stream",
          "text": [
            "root\n",
            " |-- tweet_id: long (nullable = true)\n",
            " |-- full_text: string (nullable = true)\n",
            " |-- text: string (nullable = true)\n",
            "\n"
          ],
          "name": "stdout"
        }
      ]
    },
    {
      "cell_type": "code",
      "metadata": {
        "colab": {
          "base_uri": "https://localhost:8080/",
          "height": 204
        },
        "id": "UYw9TwGk9wN8",
        "outputId": "435b92d5-ee3b-423c-8898-2e9b2b9c051a"
      },
      "source": [
        "import pandas as pd\n",
        "\n",
        "df_pandas = df.select(\"tweet_id\",\"full_text\",\"text\").toPandas()\n",
        "\n",
        "df_final = pd.concat([df_pandas,df_final_result], axis =1)\n",
        "\n",
        "df_final.head()"
      ],
      "execution_count": 42,
      "outputs": [
        {
          "output_type": "execute_result",
          "data": {
            "text/html": [
              "<div>\n",
              "<style scoped>\n",
              "    .dataframe tbody tr th:only-of-type {\n",
              "        vertical-align: middle;\n",
              "    }\n",
              "\n",
              "    .dataframe tbody tr th {\n",
              "        vertical-align: top;\n",
              "    }\n",
              "\n",
              "    .dataframe thead th {\n",
              "        text-align: right;\n",
              "    }\n",
              "</style>\n",
              "<table border=\"1\" class=\"dataframe\">\n",
              "  <thead>\n",
              "    <tr style=\"text-align: right;\">\n",
              "      <th></th>\n",
              "      <th>tweet_id</th>\n",
              "      <th>full_text</th>\n",
              "      <th>text</th>\n",
              "      <th>result</th>\n",
              "      <th>positive_confidence</th>\n",
              "      <th>negative_confidence</th>\n",
              "    </tr>\n",
              "  </thead>\n",
              "  <tbody>\n",
              "    <tr>\n",
              "      <th>0</th>\n",
              "      <td>1375177619155644416</td>\n",
              "      <td>We obtained EXCLUSIVE FOOTAGE of Biden prepari...</td>\n",
              "      <td>We obtained EXCLUSIVE FOOTAGE of Biden prepari...</td>\n",
              "      <td>positive</td>\n",
              "      <td>1.0</td>\n",
              "      <td>0.0</td>\n",
              "    </tr>\n",
              "    <tr>\n",
              "      <th>1</th>\n",
              "      <td>1375177617943449610</td>\n",
              "      <td>#bidenpressconference \\n\\nWaiting for #Ageism ...</td>\n",
              "      <td>#bidenpressconference \\n\\nWaiting for #Ageism ...</td>\n",
              "      <td>negative</td>\n",
              "      <td>2.598832E-4</td>\n",
              "      <td>0.99974006</td>\n",
              "    </tr>\n",
              "    <tr>\n",
              "      <th>2</th>\n",
              "      <td>1375177610536366081</td>\n",
              "      <td>Is no one going to talk about how @potus biden...</td>\n",
              "      <td>Is no one going to talk about how @potus biden...</td>\n",
              "      <td>negative</td>\n",
              "      <td>4.6696863E-15</td>\n",
              "      <td>1.0</td>\n",
              "    </tr>\n",
              "    <tr>\n",
              "      <th>3</th>\n",
              "      <td>1375177610192420873</td>\n",
              "      <td>Celebrating the fact that during his first pre...</td>\n",
              "      <td>Celebrating the fact that during his first pre...</td>\n",
              "      <td>negative</td>\n",
              "      <td>0.0867686</td>\n",
              "      <td>0.91323143</td>\n",
              "    </tr>\n",
              "    <tr>\n",
              "      <th>4</th>\n",
              "      <td>1375177609852690433</td>\n",
              "      <td>A President with cognitive decline is a nation...</td>\n",
              "      <td>A President with cognitive decline is a nation...</td>\n",
              "      <td>negative</td>\n",
              "      <td>0.040200155</td>\n",
              "      <td>0.9597998</td>\n",
              "    </tr>\n",
              "  </tbody>\n",
              "</table>\n",
              "</div>"
            ],
            "text/plain": [
              "              tweet_id  ... negative_confidence\n",
              "0  1375177619155644416  ...                 0.0\n",
              "1  1375177617943449610  ...          0.99974006\n",
              "2  1375177610536366081  ...                 1.0\n",
              "3  1375177610192420873  ...          0.91323143\n",
              "4  1375177609852690433  ...           0.9597998\n",
              "\n",
              "[5 rows x 6 columns]"
            ]
          },
          "metadata": {
            "tags": []
          },
          "execution_count": 42
        }
      ]
    },
    {
      "cell_type": "code",
      "metadata": {
        "id": "bG53m9wZ-HAw"
      },
      "source": [
        "df_final.to_csv(result_path,index=False)"
      ],
      "execution_count": 43,
      "outputs": []
    },
    {
      "cell_type": "code",
      "metadata": {
        "id": "83FaHNJ8-tpE"
      },
      "source": [
        ""
      ],
      "execution_count": null,
      "outputs": []
    }
  ]
}